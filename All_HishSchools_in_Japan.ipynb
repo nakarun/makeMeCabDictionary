{
 "cells": [
  {
   "cell_type": "markdown",
   "metadata": {
    "collapsed": true
   },
   "source": [
    "# 日本の高等学校一覧"
   ]
  },
  {
   "cell_type": "markdown",
   "metadata": {},
   "source": [
    "日本の高等学校一覧を Wikipedia から拝借"
   ]
  },
  {
   "cell_type": "code",
   "execution_count": 1,
   "metadata": {
    "collapsed": true
   },
   "outputs": [],
   "source": [
    "from bs4 import BeautifulSoup\n",
    "import requests"
   ]
  },
  {
   "cell_type": "code",
   "execution_count": 2,
   "metadata": {
    "collapsed": true
   },
   "outputs": [],
   "source": [
    "import sqlite3"
   ]
  },
  {
   "cell_type": "code",
   "execution_count": 3,
   "metadata": {
    "collapsed": true
   },
   "outputs": [],
   "source": [
    "import pandas as pd\n",
    "from pandas import Series,DataFrame"
   ]
  },
  {
   "cell_type": "code",
   "execution_count": 4,
   "metadata": {
    "collapsed": true
   },
   "outputs": [],
   "source": [
    "#coding:utf-8\n",
    "import csv"
   ]
  },
  {
   "cell_type": "code",
   "execution_count": 16,
   "metadata": {
    "collapsed": true
   },
   "outputs": [],
   "source": [
    "f = open('high_schools.csv', 'a') #ファイルが無ければ作る、の'a'を指定します"
   ]
  },
  {
   "cell_type": "code",
   "execution_count": 17,
   "metadata": {
    "collapsed": true
   },
   "outputs": [],
   "source": [
    "csvWriter = csv.writer(f)"
   ]
  },
  {
   "cell_type": "code",
   "execution_count": 7,
   "metadata": {
    "collapsed": false
   },
   "outputs": [],
   "source": [
    "prefectures = ['北海道','青森県','岩手県','秋田県','宮城県','山形県','福島県','茨城県','栃木県','群馬県','埼玉県','千葉県','東京都','神奈川県','新潟県','富山県','石川県','福井県','山梨県','長野県','岐阜県','静岡県','愛知県','三重県','滋賀県','京都府','大阪府','兵庫県','奈良県','和歌山県','鳥取県','島根県','岡山県','広島県','山口県','徳島県','香川県','愛媛県','高知県','福岡県','佐賀県','長崎県','熊本県','大分県','宮崎県','鹿児島県','沖縄県']"
   ]
  },
  {
   "cell_type": "code",
   "execution_count": 8,
   "metadata": {
    "collapsed": false
   },
   "outputs": [
    {
     "name": "stdout",
     "output_type": "stream",
     "text": [
      "https://ja.wikipedia.org/wiki/北海道高等学校一覧\n",
      "https://ja.wikipedia.org/wiki/青森県高等学校一覧\n",
      "https://ja.wikipedia.org/wiki/岩手県高等学校一覧\n",
      "https://ja.wikipedia.org/wiki/秋田県高等学校一覧\n",
      "https://ja.wikipedia.org/wiki/宮城県高等学校一覧\n",
      "https://ja.wikipedia.org/wiki/山形県高等学校一覧\n",
      "https://ja.wikipedia.org/wiki/福島県高等学校一覧\n",
      "https://ja.wikipedia.org/wiki/茨城県高等学校一覧\n",
      "https://ja.wikipedia.org/wiki/栃木県高等学校一覧\n",
      "https://ja.wikipedia.org/wiki/群馬県高等学校一覧\n",
      "https://ja.wikipedia.org/wiki/埼玉県高等学校一覧\n",
      "https://ja.wikipedia.org/wiki/千葉県高等学校一覧\n",
      "https://ja.wikipedia.org/wiki/東京都高等学校一覧\n",
      "https://ja.wikipedia.org/wiki/神奈川県高等学校一覧\n",
      "https://ja.wikipedia.org/wiki/新潟県高等学校一覧\n",
      "https://ja.wikipedia.org/wiki/富山県高等学校一覧\n",
      "https://ja.wikipedia.org/wiki/石川県高等学校一覧\n",
      "https://ja.wikipedia.org/wiki/福井県高等学校一覧\n",
      "https://ja.wikipedia.org/wiki/山梨県高等学校一覧\n",
      "https://ja.wikipedia.org/wiki/長野県高等学校一覧\n",
      "https://ja.wikipedia.org/wiki/岐阜県高等学校一覧\n",
      "https://ja.wikipedia.org/wiki/静岡県高等学校一覧\n",
      "https://ja.wikipedia.org/wiki/愛知県高等学校一覧\n",
      "https://ja.wikipedia.org/wiki/三重県高等学校一覧\n",
      "https://ja.wikipedia.org/wiki/滋賀県高等学校一覧\n",
      "https://ja.wikipedia.org/wiki/京都府高等学校一覧\n",
      "https://ja.wikipedia.org/wiki/大阪府高等学校一覧\n",
      "https://ja.wikipedia.org/wiki/兵庫県高等学校一覧\n",
      "https://ja.wikipedia.org/wiki/奈良県高等学校一覧\n",
      "https://ja.wikipedia.org/wiki/和歌山県高等学校一覧\n",
      "https://ja.wikipedia.org/wiki/鳥取県高等学校一覧\n",
      "https://ja.wikipedia.org/wiki/島根県高等学校一覧\n",
      "https://ja.wikipedia.org/wiki/岡山県高等学校一覧\n",
      "https://ja.wikipedia.org/wiki/広島県高等学校一覧\n",
      "https://ja.wikipedia.org/wiki/山口県高等学校一覧\n",
      "https://ja.wikipedia.org/wiki/徳島県高等学校一覧\n",
      "https://ja.wikipedia.org/wiki/香川県高等学校一覧\n",
      "https://ja.wikipedia.org/wiki/愛媛県高等学校一覧\n",
      "https://ja.wikipedia.org/wiki/高知県高等学校一覧\n",
      "https://ja.wikipedia.org/wiki/福岡県高等学校一覧\n",
      "https://ja.wikipedia.org/wiki/佐賀県高等学校一覧\n",
      "https://ja.wikipedia.org/wiki/長崎県高等学校一覧\n",
      "https://ja.wikipedia.org/wiki/熊本県高等学校一覧\n",
      "https://ja.wikipedia.org/wiki/大分県高等学校一覧\n",
      "https://ja.wikipedia.org/wiki/宮崎県高等学校一覧\n",
      "https://ja.wikipedia.org/wiki/鹿児島県高等学校一覧\n",
      "https://ja.wikipedia.org/wiki/沖縄県高等学校一覧\n"
     ]
    }
   ],
   "source": [
    "all_data = []\n",
    "\n",
    "for num in range(len(prefectures)):\n",
    "\n",
    "    url_start = 'https://ja.wikipedia.org/wiki/'\n",
    "    url = url_start + prefectures[num]\n",
    "    url_tail = '高等学校一覧'\n",
    "    url = url + url_tail\n",
    "    print(url)\n",
    "    \n",
    "        \n",
    "    result = requests.get(url)\n",
    "    c = result.content\n",
    "    \n",
    "    # HTMLをもとに、オブジェクトを作る\n",
    "    soup = BeautifulSoup(c, \"lxml\")\n",
    "    \n",
    "    # 目的の部分を切り出します。\n",
    "    h1 = soup.find(\"h1\")\n",
    "    h1_text = h1.find(text=True)\n",
    "    \n",
    "    #print(h1_text)\n",
    "    \n",
    "    data = []\n",
    "    \n",
    "    schools = soup.find_all('li')\n",
    "    \n",
    "    for n in range(len(schools)):\n",
    "        schools_text = schools[n].find_all(text=True) \n",
    "    \n",
    "        #print(schools_text)\n",
    "        data.append(schools_text)\n",
    "        \n",
    "    all_data.append(data)\n"
   ]
  },
  {
   "cell_type": "code",
   "execution_count": 9,
   "metadata": {
    "collapsed": true
   },
   "outputs": [],
   "source": [
    "import re"
   ]
  },
  {
   "cell_type": "code",
   "execution_count": 18,
   "metadata": {
    "collapsed": false
   },
   "outputs": [],
   "source": [
    "# pdfの文字列があるcellを見つけだします。\n",
    "for item in all_data:\n",
    "    #print(item)\n",
    "    \n",
    "    for n in range(len(item)):\n",
    "        #print(\"item[n] =\" , item[n])\n",
    "        \n",
    "        for nn in range(len(item[n])):\n",
    "            #print(len(item[n]))\n",
    "            #print(\"item[n][nn] =\", item[n][nn])\n",
    "\n",
    "            if re.compile('高等学校').search(item[n][nn]):\n",
    "                high_schools = []\n",
    "                high_schools_part = []\n",
    "                high_schools_part_ryaku = []\n",
    "                high_schools.append(item[n][nn])\n",
    "                #print(item[n])\n",
    "                csvWriter.writerow(high_schools)          #1行書き込み\n",
    "\n",
    "                if re.search('(?<=附属)\\w+', item[n][nn]):\n",
    "                    high_schools_part = []\n",
    "                    high_schools_part_ryaku = []\n",
    "                    m = re.search('(?<=附属)\\w+', item[n][nn])\n",
    "                    #print(m.group())\n",
    "                    high_schools_part.append(m.group())\n",
    "                    csvWriter.writerow(high_schools_part)\n",
    "                    m = re.sub('高等学校', '高校', high_schools_part[0])\n",
    "                    high_schools_part_ryaku.append(m)\n",
    "                    csvWriter.writerow(high_schools_part_ryaku)\n",
    "                \n",
    "                if re.search('(?<=市|村|町|群|区|都|道|府|県)\\w+', item[n][nn]):\n",
    "                    if re.search('(?<=市立|村立|町立|群立|区立|都立|道立|府立|県立)\\w+', item[n][nn]):\n",
    "                        high_schools_part = []\n",
    "                        high_schools_part_ryaku = []\n",
    "                        m = re.search('(?<=市立|村立|町立|群立|区立|都立|道立|府立|県立)\\w+', item[n][nn])\n",
    "                        #print(m.group())\n",
    "                        high_schools_part.append(m.group())\n",
    "                        csvWriter.writerow(high_schools_part)\n",
    "                        m = re.sub('高等学校', '高校', high_schools_part[0])\n",
    "                        high_schools_part_ryaku.append(m)\n",
    "                        csvWriter.writerow(high_schools_part_ryaku)\n",
    "                        \n",
    "                    else:\n",
    "                        high_schools_part = []\n",
    "                        high_schools_part_ryaku = []\n",
    "                        m = re.search('(?<=市|村|町|群|区|都|道|府|県)\\w+', item[n][nn])\n",
    "                        #print(m.group())\n",
    "                        high_schools_part.append(m.group())\n",
    "                        csvWriter.writerow(high_schools_part)\n",
    "                        m = re.sub('高等学校', '高校', high_schools_part[0])\n",
    "                        high_schools_part_ryaku.append(m)\n",
    "                        csvWriter.writerow(high_schools_part_ryaku)\n",
    "\n",
    "f.close()"
   ]
  },
  {
   "cell_type": "code",
   "execution_count": null,
   "metadata": {
    "collapsed": true
   },
   "outputs": [],
   "source": []
  }
 ],
 "metadata": {
  "kernelspec": {
   "display_name": "Python 3",
   "language": "python",
   "name": "python3"
  },
  "language_info": {
   "codemirror_mode": {
    "name": "ipython",
    "version": 3
   },
   "file_extension": ".py",
   "mimetype": "text/x-python",
   "name": "python",
   "nbconvert_exporter": "python",
   "pygments_lexer": "ipython3",
   "version": "3.5.1"
  }
 },
 "nbformat": 4,
 "nbformat_minor": 0
}
