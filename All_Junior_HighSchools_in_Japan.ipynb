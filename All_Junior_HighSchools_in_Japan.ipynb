{
 "cells": [
  {
   "cell_type": "markdown",
   "metadata": {
    "collapsed": true
   },
   "source": [
    "# 日本の中学校一覧"
   ]
  },
  {
   "cell_type": "markdown",
   "metadata": {},
   "source": [
    "日本の小学校一覧を Wikipedia から拝借"
   ]
  },
  {
   "cell_type": "code",
   "execution_count": 1,
   "metadata": {
    "collapsed": true
   },
   "outputs": [],
   "source": [
    "from bs4 import BeautifulSoup\n",
    "import requests"
   ]
  },
  {
   "cell_type": "code",
   "execution_count": 2,
   "metadata": {
    "collapsed": true
   },
   "outputs": [],
   "source": [
    "import sqlite3"
   ]
  },
  {
   "cell_type": "code",
   "execution_count": 3,
   "metadata": {
    "collapsed": false
   },
   "outputs": [],
   "source": [
    "import pandas as pd\n",
    "from pandas import Series, DataFrame"
   ]
  },
  {
   "cell_type": "code",
   "execution_count": 4,
   "metadata": {
    "collapsed": true
   },
   "outputs": [],
   "source": [
    "import re"
   ]
  },
  {
   "cell_type": "code",
   "execution_count": 5,
   "metadata": {
    "collapsed": true
   },
   "outputs": [],
   "source": [
    "#coding:utf-8\n",
    "import csv"
   ]
  },
  {
   "cell_type": "code",
   "execution_count": 11,
   "metadata": {
    "collapsed": true
   },
   "outputs": [],
   "source": [
    "f = open('jh_schools.csv', 'a') #ファイルが無ければ作る、の'a'を指定します"
   ]
  },
  {
   "cell_type": "code",
   "execution_count": 12,
   "metadata": {
    "collapsed": true
   },
   "outputs": [],
   "source": [
    "csvWriter = csv.writer(f)"
   ]
  },
  {
   "cell_type": "code",
   "execution_count": 8,
   "metadata": {
    "collapsed": false
   },
   "outputs": [],
   "source": [
    "prefectures = ['北海道','青森県','岩手県','秋田県','宮城県','山形県','福島県','茨城県','栃木県','群馬県','埼玉県','千葉県','東京都','神奈川県','新潟県','富山県','石川県','福井県','山梨県','長野県','岐阜県','静岡県','愛知県','三重県','滋賀県','京都府','大阪府','兵庫県','奈良県','和歌山県','鳥取県','島根県','岡山県','広島県','山口県','徳島県','香川県','愛媛県','高知県','福岡県','佐賀県','長崎県','熊本県','大分県','宮崎県','鹿児島県','沖縄県']"
   ]
  },
  {
   "cell_type": "code",
   "execution_count": 9,
   "metadata": {
    "collapsed": false
   },
   "outputs": [
    {
     "name": "stdout",
     "output_type": "stream",
     "text": [
      "https://ja.wikipedia.org/wiki/北海道中学校一覧\n",
      "https://ja.wikipedia.org/wiki/青森県中学校一覧\n",
      "https://ja.wikipedia.org/wiki/岩手県中学校一覧\n",
      "https://ja.wikipedia.org/wiki/秋田県中学校一覧\n",
      "https://ja.wikipedia.org/wiki/宮城県中学校一覧\n",
      "https://ja.wikipedia.org/wiki/山形県中学校一覧\n",
      "https://ja.wikipedia.org/wiki/福島県中学校一覧\n",
      "https://ja.wikipedia.org/wiki/茨城県中学校一覧\n",
      "https://ja.wikipedia.org/wiki/栃木県中学校一覧\n",
      "https://ja.wikipedia.org/wiki/群馬県中学校一覧\n",
      "https://ja.wikipedia.org/wiki/埼玉県中学校一覧\n",
      "https://ja.wikipedia.org/wiki/千葉県中学校一覧\n",
      "https://ja.wikipedia.org/wiki/東京都中学校一覧\n",
      "https://ja.wikipedia.org/wiki/神奈川県中学校一覧\n",
      "https://ja.wikipedia.org/wiki/新潟県中学校一覧\n",
      "https://ja.wikipedia.org/wiki/富山県中学校一覧\n",
      "https://ja.wikipedia.org/wiki/石川県中学校一覧\n",
      "https://ja.wikipedia.org/wiki/福井県中学校一覧\n",
      "https://ja.wikipedia.org/wiki/山梨県中学校一覧\n",
      "https://ja.wikipedia.org/wiki/長野県中学校一覧\n",
      "https://ja.wikipedia.org/wiki/岐阜県中学校一覧\n",
      "https://ja.wikipedia.org/wiki/静岡県中学校一覧\n",
      "https://ja.wikipedia.org/wiki/愛知県中学校一覧\n",
      "https://ja.wikipedia.org/wiki/三重県中学校一覧\n",
      "https://ja.wikipedia.org/wiki/滋賀県中学校一覧\n",
      "https://ja.wikipedia.org/wiki/京都府中学校一覧\n",
      "https://ja.wikipedia.org/wiki/大阪府中学校一覧\n",
      "https://ja.wikipedia.org/wiki/兵庫県中学校一覧\n",
      "https://ja.wikipedia.org/wiki/奈良県中学校一覧\n",
      "https://ja.wikipedia.org/wiki/和歌山県中学校一覧\n",
      "https://ja.wikipedia.org/wiki/鳥取県中学校一覧\n",
      "https://ja.wikipedia.org/wiki/島根県中学校一覧\n",
      "https://ja.wikipedia.org/wiki/岡山県中学校一覧\n",
      "https://ja.wikipedia.org/wiki/広島県中学校一覧\n",
      "https://ja.wikipedia.org/wiki/山口県中学校一覧\n",
      "https://ja.wikipedia.org/wiki/徳島県中学校一覧\n",
      "https://ja.wikipedia.org/wiki/香川県中学校一覧\n",
      "https://ja.wikipedia.org/wiki/愛媛県中学校一覧\n",
      "https://ja.wikipedia.org/wiki/高知県中学校一覧\n",
      "https://ja.wikipedia.org/wiki/福岡県中学校一覧\n",
      "https://ja.wikipedia.org/wiki/佐賀県中学校一覧\n",
      "https://ja.wikipedia.org/wiki/長崎県中学校一覧\n",
      "https://ja.wikipedia.org/wiki/熊本県中学校一覧\n",
      "https://ja.wikipedia.org/wiki/大分県中学校一覧\n",
      "https://ja.wikipedia.org/wiki/宮崎県中学校一覧\n",
      "https://ja.wikipedia.org/wiki/鹿児島県中学校一覧\n",
      "https://ja.wikipedia.org/wiki/沖縄県中学校一覧\n"
     ]
    }
   ],
   "source": [
    "all_data = []\n",
    "\n",
    "for num in range(len(prefectures)):\n",
    "\n",
    "    url_start = 'https://ja.wikipedia.org/wiki/'\n",
    "    url = url_start + prefectures[num]\n",
    "    url_tail = '中学校一覧'\n",
    "    url = url + url_tail\n",
    "    print(url)\n",
    "\n",
    "    result = requests.get(url)\n",
    "    c = result.content\n",
    "    \n",
    "    # HTMLをもとに、オブジェクトを作る\n",
    "    soup = BeautifulSoup(c, \"lxml\")\n",
    "    \n",
    "    # 目的の部分を切り出します。\n",
    "    h1 = soup.find(\"h1\")\n",
    "    h1_text = h1.find(text=True)\n",
    "    \n",
    "    #print(h1_text)\n",
    "    \n",
    "    data = []\n",
    "    \n",
    "    schools = soup.find_all('li')\n",
    "    \n",
    "    for n in range(len(schools)):\n",
    "        schools_text = schools[n].find_all(text=True) \n",
    "    \n",
    "        #print(schools_text)\n",
    "        data.append(schools_text)\n",
    "        \n",
    "    all_data.append(data)\n",
    "        "
   ]
  },
  {
   "cell_type": "code",
   "execution_count": 13,
   "metadata": {
    "collapsed": false
   },
   "outputs": [],
   "source": [
    "# pdfの文字列があるcellを見つけだします。\n",
    "for item in all_data:\n",
    "    #print(item)\n",
    "    \n",
    "    for n in range(len(item)):\n",
    "        #print(\"item[n] =\" , item[n])\n",
    "        \n",
    "        for nn in range(len(item[n])):\n",
    "            #print(len(item[n]))\n",
    "            #print(\"item[n][nn] =\", item[n][nn])\n",
    "\n",
    "            if re.compile('中学校').search(item[n][nn]):\n",
    "                e_schools = []\n",
    "                e_schools_part = []\n",
    "                e_schools_part_ryaku = []\n",
    "                e_schools.append(item[n][nn])\n",
    "                #print(item[n][nn])\n",
    "                #print(e_schools)\n",
    "                csvWriter.writerow(e_schools)          #1行書き込み\n",
    "                \n",
    "                if re.search('(?<=附属)\\w+', item[n][nn]):\n",
    "                    e_schools_part = []\n",
    "                    e_schools_part_ryaku = []\n",
    "                    m = re.search('(?<=附属)\\w+', item[n][nn])\n",
    "                    #print(m.group())\n",
    "                    e_schools_part.append(m.group())\n",
    "                    csvWriter.writerow(e_schools_part)\n",
    "                    m = re.sub('中学校', '中', e_schools_part[0])\n",
    "                    e_schools_part_ryaku.append(m)\n",
    "                    csvWriter.writerow(e_schools_part_ryaku)\n",
    "                    \n",
    "                \n",
    "                if re.search('(?<=市|村|町|群|区|都|道|府|県)\\w+', item[n][nn]):\n",
    "                    if re.search('(?<=市立|村立|町立|群立|区立|都立|道立|府立|県立)\\w+', item[n][nn]):\n",
    "                        e_schools_part = []\n",
    "                        e_schools_part_ryaku = []\n",
    "                        m = re.search('(?<=市立|村立|町立|群立|区立|都立|道立|府立|県立)\\w+', item[n][nn])\n",
    "                        #print(m.group())\n",
    "                        e_schools_part.append(m.group())\n",
    "                        csvWriter.writerow(e_schools_part)\n",
    "                        m = re.sub('中学校', '中', e_schools_part[0])\n",
    "                        e_schools_part_ryaku.append(m)\n",
    "                        csvWriter.writerow(e_schools_part_ryaku)\n",
    "                        \n",
    "                    else:\n",
    "                        e_schools_part = []\n",
    "                        e_schools_part_ryaku = []\n",
    "                        m = re.search('(?<=市|村|町|群|区|都|道|府|県)\\w+', item[n][nn])\n",
    "                        #print(m.group())\n",
    "                        e_schools_part.append(m.group())\n",
    "                        csvWriter.writerow(e_schools_part)\n",
    "                        m = re.sub('中学校', '中', e_schools_part[0])\n",
    "                        e_schools_part_ryaku.append(m)\n",
    "                        csvWriter.writerow(e_schools_part_ryaku)\n",
    "f.close()"
   ]
  },
  {
   "cell_type": "code",
   "execution_count": null,
   "metadata": {
    "collapsed": true
   },
   "outputs": [],
   "source": []
  }
 ],
 "metadata": {
  "kernelspec": {
   "display_name": "Python 3",
   "language": "python",
   "name": "python3"
  },
  "language_info": {
   "codemirror_mode": {
    "name": "ipython",
    "version": 3
   },
   "file_extension": ".py",
   "mimetype": "text/x-python",
   "name": "python",
   "nbconvert_exporter": "python",
   "pygments_lexer": "ipython3",
   "version": "3.5.1"
  }
 },
 "nbformat": 4,
 "nbformat_minor": 0
}
