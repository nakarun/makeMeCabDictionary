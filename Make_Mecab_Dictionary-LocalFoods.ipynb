{
 "cells": [
  {
   "cell_type": "markdown",
   "metadata": {},
   "source": [
    "# Mecab ユーザー辞書作り"
   ]
  },
  {
   "cell_type": "markdown",
   "metadata": {},
   "source": [
    "##### 手順"
   ]
  },
  {
   "cell_type": "markdown",
   "metadata": {},
   "source": [
    "1. ユーザ辞書の準備として、CSVファイルを作成\n",
    "2. コマンドラインで DIC ファイルを作成\n",
    "3. 作成した辞書にパスを通す"
   ]
  },
  {
   "cell_type": "markdown",
   "metadata": {},
   "source": [
    "### 1. ユーザ辞書作成の準備として、CSVファイルを作成"
   ]
  },
  {
   "cell_type": "code",
   "execution_count": 1,
   "metadata": {
    "collapsed": false
   },
   "outputs": [
    {
     "data": {
      "text/plain": [
       "true"
      ]
     },
     "execution_count": 1,
     "metadata": {},
     "output_type": "execute_result"
    }
   ],
   "source": [
    "require 'csv'"
   ]
  },
  {
   "cell_type": "code",
   "execution_count": 2,
   "metadata": {
    "collapsed": false
   },
   "outputs": [
    {
     "data": {
      "text/plain": [
       "{:local_foods=>\"local_foods.csv\"}"
      ]
     },
     "execution_count": 2,
     "metadata": {},
     "output_type": "execute_result"
    }
   ],
   "source": [
    "original_data = {\n",
    "  local_foods: 'local_foods.csv'\n",
    "}"
   ]
  },
  {
   "cell_type": "code",
   "execution_count": 3,
   "metadata": {
    "collapsed": false
   },
   "outputs": [
    {
     "data": {
      "text/plain": [
       "{:local_foods=>\"local_foods.csv\"}"
      ]
     },
     "execution_count": 3,
     "metadata": {},
     "output_type": "execute_result"
    }
   ],
   "source": [
    "CSV.open(\"localfoods_dictionary.csv\", 'w') do |csv|\n",
    "    original_data.each do |type, filename|\n",
    "        next unless File.file? filename\n",
    "        open(filename).each do |title|\n",
    "            title.strip!\n",
    "            \n",
    "            next if title =~ %r(^[+-.$()?*/&%!\"'_,]+)\n",
    "            next if title =~ /^[-.0-9]+$/\n",
    "            next if title =~ /曖昧さ回避/\n",
    "            next if title =~ /_\\(/\n",
    "            next if title =~ /^PJ:/\n",
    "            next if title =~ /の登場人物/\n",
    "            next if title =~ /一覧/\n",
    "                                                     \n",
    "            title_length = title.length\n",
    "                                                     \n",
    "            if title_length > 3\n",
    "             score = [-36000.0, -400 * (title_length ** 1.5)].max.to_i\n",
    "             csv << [title, nil, nil, score, '名詞', '一般', '*', '*', '*', '*', title, '*', '*', type]\n",
    "            end\n",
    "        end\n",
    "     end\n",
    "end\n"
   ]
  },
  {
   "cell_type": "markdown",
   "metadata": {},
   "source": [
    "参考:http://qiita.com/ynakayama/items/388c82cbe14c65827769"
   ]
  },
  {
   "cell_type": "markdown",
   "metadata": {},
   "source": [
    "### 2. コマンドラインで DIC ファイルを作成"
   ]
  },
  {
   "cell_type": "markdown",
   "metadata": {
    "collapsed": true
   },
   "source": [
    "コマンドラインで以下を実行する。"
   ]
  },
  {
   "cell_type": "markdown",
   "metadata": {},
   "source": [
    "・/usr/local/Cellar/mecab/0.996/libexec/mecab/mecab-dict-index -d /usr/local/lib/mecab/dic/ipadic -u /Users/runa/python/All_something_in_Japan/local_foos.dic -f utf-8 -t utf-8 /Users/runa/python/All_something_in_Japan/localfoods_dictionary.csv"
   ]
  },
  {
   "cell_type": "markdown",
   "metadata": {},
   "source": [
    "mecabの辞書を置く場所にコピー"
   ]
  },
  {
   "cell_type": "markdown",
   "metadata": {},
   "source": [
    "・cp local_foos.dic /usr/local/lib/mecab/dic"
   ]
  },
  {
   "cell_type": "markdown",
   "metadata": {},
   "source": [
    "### 3. 作成した辞書にパスを通す"
   ]
  },
  {
   "cell_type": "markdown",
   "metadata": {},
   "source": [
    "・vim /usr/local/etc/mecabrc"
   ]
  },
  {
   "cell_type": "markdown",
   "metadata": {},
   "source": [
    "・cat /usr/local/etc/mecabrc\n",
    "\n",
    ";\n",
    "; Configuration file of MeCab\n",
    ";\n",
    "; \n",
    "$Id: mecabrc.in,v 1.3 2006/05/29 15:36:08 taku-ku Exp $;\n",
    ";\n",
    "\n",
    "dicdir =  /usr/local/lib/mecab/dic/mecab-ipadic-neologd\n",
    "\n",
    "; userdic = /home/foo/bar/user.dic\n",
    "\n",
    "userdic_wikipedia = /usr/local/lib/mecab/dic/custom.dic\n",
    "\n",
    "userdic_schools = /usr/local/lib/mecab/dic/schools.dic\n",
    "\n",
    "; output-format-type = wakati\n",
    "; input-buffer-size = 8192\n",
    "\n",
    "; node-format = %m\\n\n",
    "; bos-format = %S\\n\n",
    "; eos-format = EOS\\n"
   ]
  },
  {
   "cell_type": "markdown",
   "metadata": {},
   "source": [
    "### 確認"
   ]
  },
  {
   "cell_type": "code",
   "execution_count": 4,
   "metadata": {
    "collapsed": false
   },
   "outputs": [
    {
     "data": {
      "text/plain": [
       "true"
      ]
     },
     "execution_count": 4,
     "metadata": {},
     "output_type": "execute_result"
    }
   ],
   "source": [
    "require 'uri'\n",
    "require 'sqlite3'\n",
    "require 'natto'\n",
    "require 'mecab'"
   ]
  },
  {
   "cell_type": "code",
   "execution_count": 5,
   "metadata": {
    "collapsed": false
   },
   "outputs": [
    {
     "data": {
      "text/plain": [
       "\"./local_foos.dic\""
      ]
     },
     "execution_count": 5,
     "metadata": {},
     "output_type": "execute_result"
    }
   ],
   "source": [
    "userdic_path = \"./local_foos.dic\""
   ]
  },
  {
   "cell_type": "code",
   "execution_count": 6,
   "metadata": {
    "collapsed": false
   },
   "outputs": [
    {
     "data": {
      "text/plain": [
       "#<MeCab::Tagger:0x007fefe2369d20 @__swigtype__=\"_p_MeCab__Tagger\">"
      ]
     },
     "execution_count": 6,
     "metadata": {},
     "output_type": "execute_result"
    }
   ],
   "source": [
    "c = MeCab::Tagger.new(\"-u #{userdic_path}\")"
   ]
  },
  {
   "cell_type": "code",
   "execution_count": 7,
   "metadata": {
    "collapsed": false
   },
   "outputs": [
    {
     "name": "stdout",
     "output_type": "stream",
     "text": [
      "いちご煮\t名詞,一般,*,*,*,*,いちご煮,*,*,local_foods\n",
      "祭り\t名詞,一般,*,*,*,*,祭り,マツリ,マツリ\n",
      "EOS\n"
     ]
    }
   ],
   "source": [
    "print c.parse(\"いちご煮祭り\")"
   ]
  },
  {
   "cell_type": "code",
   "execution_count": null,
   "metadata": {
    "collapsed": true
   },
   "outputs": [],
   "source": []
  }
 ],
 "metadata": {
  "kernelspec": {
   "display_name": "Ruby 2.1.2",
   "language": "ruby",
   "name": "ruby"
  },
  "language_info": {
   "file_extension": ".rb",
   "mimetype": "application/x-ruby",
   "name": "ruby",
   "version": "2.1.2"
  }
 },
 "nbformat": 4,
 "nbformat_minor": 0
}
